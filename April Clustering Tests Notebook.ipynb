{
 "cells": [
  {
   "cell_type": "code",
   "execution_count": 1,
   "metadata": {},
   "outputs": [],
   "source": [
    "import pandas as pd\n"
   ]
  },
  {
   "cell_type": "code",
   "execution_count": 2,
   "metadata": {},
   "outputs": [
    {
     "name": "stdout",
     "output_type": "stream",
     "text": [
      "Requirement already satisfied: xlrd in c:\\users\\kushal\\appdata\\local\\programs\\python\\python38\\lib\\site-packages (1.2.0)\n",
      "Note: you may need to restart the kernel to use updated packages.\n"
     ]
    },
    {
     "name": "stderr",
     "output_type": "stream",
     "text": [
      "WARNING: You are using pip version 19.2.3, however version 20.2 is available.\n",
      "You should consider upgrading via the 'python -m pip install --upgrade pip' command.\n"
     ]
    }
   ],
   "source": [
    "pip install xlrd"
   ]
  },
  {
   "cell_type": "code",
   "execution_count": 3,
   "metadata": {},
   "outputs": [],
   "source": [
    "df=pd.read_excel(\"cluster_april.xlsx\")"
   ]
  },
  {
   "cell_type": "code",
   "execution_count": 4,
   "metadata": {},
   "outputs": [
    {
     "data": {
      "text/html": [
       "<div>\n",
       "<style scoped>\n",
       "    .dataframe tbody tr th:only-of-type {\n",
       "        vertical-align: middle;\n",
       "    }\n",
       "\n",
       "    .dataframe tbody tr th {\n",
       "        vertical-align: top;\n",
       "    }\n",
       "\n",
       "    .dataframe thead th {\n",
       "        text-align: right;\n",
       "    }\n",
       "</style>\n",
       "<table border=\"1\" class=\"dataframe\">\n",
       "  <thead>\n",
       "    <tr style=\"text-align: right;\">\n",
       "      <th></th>\n",
       "      <th>Test</th>\n",
       "      <th>Frequency</th>\n",
       "      <th>Avg_revenue</th>\n",
       "    </tr>\n",
       "  </thead>\n",
       "  <tbody>\n",
       "    <tr>\n",
       "      <th>0</th>\n",
       "      <td>Complete Blood Count</td>\n",
       "      <td>745</td>\n",
       "      <td>250.518121</td>\n",
       "    </tr>\n",
       "    <tr>\n",
       "      <th>1</th>\n",
       "      <td>Random Blood Sugar</td>\n",
       "      <td>536</td>\n",
       "      <td>38.516791</td>\n",
       "    </tr>\n",
       "    <tr>\n",
       "      <th>2</th>\n",
       "      <td>Urine Routine</td>\n",
       "      <td>481</td>\n",
       "      <td>77.688150</td>\n",
       "    </tr>\n",
       "    <tr>\n",
       "      <th>3</th>\n",
       "      <td>Thyroid Stimulating</td>\n",
       "      <td>391</td>\n",
       "      <td>230.496164</td>\n",
       "    </tr>\n",
       "    <tr>\n",
       "      <th>4</th>\n",
       "      <td>Renal Function Test (RFT)</td>\n",
       "      <td>321</td>\n",
       "      <td>134.320872</td>\n",
       "    </tr>\n",
       "    <tr>\n",
       "      <th>...</th>\n",
       "      <td>...</td>\n",
       "      <td>...</td>\n",
       "      <td>...</td>\n",
       "    </tr>\n",
       "    <tr>\n",
       "      <th>141</th>\n",
       "      <td>Weil Felix Test</td>\n",
       "      <td>1</td>\n",
       "      <td>500.000000</td>\n",
       "    </tr>\n",
       "    <tr>\n",
       "      <th>142</th>\n",
       "      <td>Total Iron Binding Capacity</td>\n",
       "      <td>1</td>\n",
       "      <td>320.000000</td>\n",
       "    </tr>\n",
       "    <tr>\n",
       "      <th>143</th>\n",
       "      <td>QUADRUPLE MARKER</td>\n",
       "      <td>1</td>\n",
       "      <td>2400.000000</td>\n",
       "    </tr>\n",
       "    <tr>\n",
       "      <th>144</th>\n",
       "      <td>Total Proteins</td>\n",
       "      <td>1</td>\n",
       "      <td>120.000000</td>\n",
       "    </tr>\n",
       "    <tr>\n",
       "      <th>145</th>\n",
       "      <td>LDH Total</td>\n",
       "      <td>1</td>\n",
       "      <td>500.000000</td>\n",
       "    </tr>\n",
       "  </tbody>\n",
       "</table>\n",
       "<p>146 rows × 3 columns</p>\n",
       "</div>"
      ],
      "text/plain": [
       "                            Test  Frequency  Avg_revenue\n",
       "0           Complete Blood Count        745   250.518121\n",
       "1             Random Blood Sugar        536    38.516791\n",
       "2                  Urine Routine        481    77.688150\n",
       "3            Thyroid Stimulating        391   230.496164\n",
       "4      Renal Function Test (RFT)        321   134.320872\n",
       "..                           ...        ...          ...\n",
       "141              Weil Felix Test          1   500.000000\n",
       "142  Total Iron Binding Capacity          1   320.000000\n",
       "143             QUADRUPLE MARKER          1  2400.000000\n",
       "144               Total Proteins          1   120.000000\n",
       "145                    LDH Total          1   500.000000\n",
       "\n",
       "[146 rows x 3 columns]"
      ]
     },
     "execution_count": 4,
     "metadata": {},
     "output_type": "execute_result"
    }
   ],
   "source": [
    "df"
   ]
  },
  {
   "cell_type": "code",
   "execution_count": 5,
   "metadata": {},
   "outputs": [
    {
     "name": "stdout",
     "output_type": "stream",
     "text": [
      "Requirement already up-to-date: scikit-learn in c:\\users\\kushal\\appdata\\local\\programs\\python\\python38\\lib\\site-packages (0.23.1)\n",
      "Requirement already satisfied, skipping upgrade: joblib>=0.11 in c:\\users\\kushal\\appdata\\local\\programs\\python\\python38\\lib\\site-packages (from scikit-learn) (0.16.0)\n",
      "Requirement already satisfied, skipping upgrade: threadpoolctl>=2.0.0 in c:\\users\\kushal\\appdata\\local\\programs\\python\\python38\\lib\\site-packages (from scikit-learn) (2.1.0)\n",
      "Note: you may need to restart the kernel to use updated packages.\n"
     ]
    },
    {
     "name": "stderr",
     "output_type": "stream",
     "text": [
      "WARNING: You are using pip version 19.2.3, however version 20.2 is available.\n",
      "You should consider upgrading via the 'python -m pip install --upgrade pip' command.\n"
     ]
    },
    {
     "name": "stdout",
     "output_type": "stream",
     "text": [
      "Requirement already satisfied, skipping upgrade: scipy>=0.19.1 in c:\\users\\kushal\\appdata\\local\\programs\\python\\python38\\lib\\site-packages (from scikit-learn) (1.5.2)\n",
      "Requirement already satisfied, skipping upgrade: numpy>=1.13.3 in c:\\users\\kushal\\appdata\\local\\programs\\python\\python38\\lib\\site-packages (from scikit-learn) (1.19.0)\n"
     ]
    }
   ],
   "source": [
    "pip install -U scikit-learn"
   ]
  },
  {
   "cell_type": "code",
   "execution_count": 6,
   "metadata": {},
   "outputs": [],
   "source": [
    "import sklearn"
   ]
  },
  {
   "cell_type": "code",
   "execution_count": 7,
   "metadata": {},
   "outputs": [],
   "source": [
    "from sklearn.cluster import KMeans"
   ]
  },
  {
   "cell_type": "code",
   "execution_count": 8,
   "metadata": {},
   "outputs": [],
   "source": [
    "from sklearn.preprocessing import MinMaxScaler"
   ]
  },
  {
   "cell_type": "code",
   "execution_count": 9,
   "metadata": {},
   "outputs": [
    {
     "name": "stdout",
     "output_type": "stream",
     "text": [
      "Requirement already satisfied: matplotlib in c:\\users\\kushal\\appdata\\local\\programs\\python\\python38\\lib\\site-packages (3.3.0)\n",
      "Requirement already satisfied: numpy>=1.15 in c:\\users\\kushal\\appdata\\local\\programs\\python\\python38\\lib\\site-packages (from matplotlib) (1.19.0)\n",
      "Note: you may need to restart the kernel to use updated packages.\n"
     ]
    },
    {
     "name": "stderr",
     "output_type": "stream",
     "text": [
      "WARNING: You are using pip version 19.2.3, however version 20.2 is available.\n",
      "You should consider upgrading via the 'python -m pip install --upgrade pip' command.\n"
     ]
    },
    {
     "name": "stdout",
     "output_type": "stream",
     "text": [
      "Requirement already satisfied: pyparsing!=2.0.4,!=2.1.2,!=2.1.6,>=2.0.3 in c:\\users\\kushal\\appdata\\local\\programs\\python\\python38\\lib\\site-packages (from matplotlib) (2.4.7)\n",
      "Requirement already satisfied: python-dateutil>=2.1 in c:\\users\\kushal\\appdata\\local\\programs\\python\\python38\\lib\\site-packages (from matplotlib) (2.8.1)\n",
      "Requirement already satisfied: cycler>=0.10 in c:\\users\\kushal\\appdata\\local\\programs\\python\\python38\\lib\\site-packages (from matplotlib) (0.10.0)\n",
      "Requirement already satisfied: kiwisolver>=1.0.1 in c:\\users\\kushal\\appdata\\local\\programs\\python\\python38\\lib\\site-packages (from matplotlib) (1.2.0)\n",
      "Requirement already satisfied: pillow>=6.2.0 in c:\\users\\kushal\\appdata\\local\\programs\\python\\python38\\lib\\site-packages (from matplotlib) (7.2.0)\n",
      "Requirement already satisfied: six>=1.5 in c:\\users\\kushal\\appdata\\local\\programs\\python\\python38\\lib\\site-packages (from python-dateutil>=2.1->matplotlib) (1.15.0)\n"
     ]
    }
   ],
   "source": [
    "pip install matplotlib\n"
   ]
  },
  {
   "cell_type": "code",
   "execution_count": 10,
   "metadata": {},
   "outputs": [
    {
     "name": "stdout",
     "output_type": "stream",
     "text": [
      "Requirement already satisfied: numpy in c:\\users\\kushal\\appdata\\local\\programs\\python\\python38\\lib\\site-packages (1.19.0)\n",
      "Note: you may need to restart the kernel to use updated packages.\n"
     ]
    },
    {
     "name": "stderr",
     "output_type": "stream",
     "text": [
      "WARNING: You are using pip version 19.2.3, however version 20.2 is available.\n",
      "You should consider upgrading via the 'python -m pip install --upgrade pip' command.\n"
     ]
    }
   ],
   "source": [
    "pip install numpy"
   ]
  },
  {
   "cell_type": "code",
   "execution_count": 12,
   "metadata": {},
   "outputs": [],
   "source": [
    "from matplotlib import pyplot as plt\n",
    "%matplotlib inline"
   ]
  },
  {
   "cell_type": "code",
   "execution_count": 14,
   "metadata": {},
   "outputs": [
    {
     "data": {
      "text/html": [
       "<div>\n",
       "<style scoped>\n",
       "    .dataframe tbody tr th:only-of-type {\n",
       "        vertical-align: middle;\n",
       "    }\n",
       "\n",
       "    .dataframe tbody tr th {\n",
       "        vertical-align: top;\n",
       "    }\n",
       "\n",
       "    .dataframe thead th {\n",
       "        text-align: right;\n",
       "    }\n",
       "</style>\n",
       "<table border=\"1\" class=\"dataframe\">\n",
       "  <thead>\n",
       "    <tr style=\"text-align: right;\">\n",
       "      <th></th>\n",
       "      <th>Test</th>\n",
       "      <th>Frequency</th>\n",
       "      <th>Avg_revenue</th>\n",
       "    </tr>\n",
       "  </thead>\n",
       "  <tbody>\n",
       "    <tr>\n",
       "      <th>0</th>\n",
       "      <td>Complete Blood Count</td>\n",
       "      <td>745</td>\n",
       "      <td>250.518121</td>\n",
       "    </tr>\n",
       "    <tr>\n",
       "      <th>1</th>\n",
       "      <td>Random Blood Sugar</td>\n",
       "      <td>536</td>\n",
       "      <td>38.516791</td>\n",
       "    </tr>\n",
       "    <tr>\n",
       "      <th>2</th>\n",
       "      <td>Urine Routine</td>\n",
       "      <td>481</td>\n",
       "      <td>77.688150</td>\n",
       "    </tr>\n",
       "    <tr>\n",
       "      <th>3</th>\n",
       "      <td>Thyroid Stimulating</td>\n",
       "      <td>391</td>\n",
       "      <td>230.496164</td>\n",
       "    </tr>\n",
       "    <tr>\n",
       "      <th>4</th>\n",
       "      <td>Renal Function Test (RFT)</td>\n",
       "      <td>321</td>\n",
       "      <td>134.320872</td>\n",
       "    </tr>\n",
       "    <tr>\n",
       "      <th>...</th>\n",
       "      <td>...</td>\n",
       "      <td>...</td>\n",
       "      <td>...</td>\n",
       "    </tr>\n",
       "    <tr>\n",
       "      <th>141</th>\n",
       "      <td>Weil Felix Test</td>\n",
       "      <td>1</td>\n",
       "      <td>500.000000</td>\n",
       "    </tr>\n",
       "    <tr>\n",
       "      <th>142</th>\n",
       "      <td>Total Iron Binding Capacity</td>\n",
       "      <td>1</td>\n",
       "      <td>320.000000</td>\n",
       "    </tr>\n",
       "    <tr>\n",
       "      <th>143</th>\n",
       "      <td>QUADRUPLE MARKER</td>\n",
       "      <td>1</td>\n",
       "      <td>2400.000000</td>\n",
       "    </tr>\n",
       "    <tr>\n",
       "      <th>144</th>\n",
       "      <td>Total Proteins</td>\n",
       "      <td>1</td>\n",
       "      <td>120.000000</td>\n",
       "    </tr>\n",
       "    <tr>\n",
       "      <th>145</th>\n",
       "      <td>LDH Total</td>\n",
       "      <td>1</td>\n",
       "      <td>500.000000</td>\n",
       "    </tr>\n",
       "  </tbody>\n",
       "</table>\n",
       "<p>146 rows × 3 columns</p>\n",
       "</div>"
      ],
      "text/plain": [
       "                            Test  Frequency  Avg_revenue\n",
       "0           Complete Blood Count        745   250.518121\n",
       "1             Random Blood Sugar        536    38.516791\n",
       "2                  Urine Routine        481    77.688150\n",
       "3            Thyroid Stimulating        391   230.496164\n",
       "4      Renal Function Test (RFT)        321   134.320872\n",
       "..                           ...        ...          ...\n",
       "141              Weil Felix Test          1   500.000000\n",
       "142  Total Iron Binding Capacity          1   320.000000\n",
       "143             QUADRUPLE MARKER          1  2400.000000\n",
       "144               Total Proteins          1   120.000000\n",
       "145                    LDH Total          1   500.000000\n",
       "\n",
       "[146 rows x 3 columns]"
      ]
     },
     "execution_count": 14,
     "metadata": {},
     "output_type": "execute_result"
    }
   ],
   "source": [
    "df"
   ]
  },
  {
   "cell_type": "markdown",
   "metadata": {},
   "source": [
    "## Plotting on scatter plot the 2 features of each test"
   ]
  },
  {
   "cell_type": "code",
   "execution_count": 16,
   "metadata": {},
   "outputs": [
    {
     "data": {
      "text/plain": [
       "<matplotlib.collections.PathCollection at 0x1c648cec910>"
      ]
     },
     "execution_count": 16,
     "metadata": {},
     "output_type": "execute_result"
    },
    {
     "data": {
      "image/png": "[encoded data removed]",
      "text/plain": [
       "<Figure size 432x288 with 1 Axes>"
      ]
     },
     "metadata": {
      "needs_background": "light"
     },
     "output_type": "display_data"
    }
   ],
   "source": [
    "plt.scatter(df['Frequency'],df['Avg_revenue'])"
   ]
  },
  {
   "cell_type": "markdown",
   "metadata": {},
   "source": [
    "## Scaling the data using minmaxscaler"
   ]
  },
  {
   "cell_type": "code",
   "execution_count": 25,
   "metadata": {},
   "outputs": [
    {
     "data": {
      "text/html": [
       "<div>\n",
       "<style scoped>\n",
       "    .dataframe tbody tr th:only-of-type {\n",
       "        vertical-align: middle;\n",
       "    }\n",
       "\n",
       "    .dataframe tbody tr th {\n",
       "        vertical-align: top;\n",
       "    }\n",
       "\n",
       "    .dataframe thead th {\n",
       "        text-align: right;\n",
       "    }\n",
       "</style>\n",
       "<table border=\"1\" class=\"dataframe\">\n",
       "  <thead>\n",
       "    <tr style=\"text-align: right;\">\n",
       "      <th></th>\n",
       "      <th>Test</th>\n",
       "      <th>Frequency</th>\n",
       "      <th>Avg_revenue</th>\n",
       "    </tr>\n",
       "  </thead>\n",
       "  <tbody>\n",
       "    <tr>\n",
       "      <th>0</th>\n",
       "      <td>Complete Blood Count</td>\n",
       "      <td>1.000000</td>\n",
       "      <td>0.069492</td>\n",
       "    </tr>\n",
       "    <tr>\n",
       "      <th>1</th>\n",
       "      <td>Random Blood Sugar</td>\n",
       "      <td>0.719086</td>\n",
       "      <td>0.010684</td>\n",
       "    </tr>\n",
       "    <tr>\n",
       "      <th>2</th>\n",
       "      <td>Urine Routine</td>\n",
       "      <td>0.645161</td>\n",
       "      <td>0.021550</td>\n",
       "    </tr>\n",
       "    <tr>\n",
       "      <th>3</th>\n",
       "      <td>Thyroid Stimulating</td>\n",
       "      <td>0.524194</td>\n",
       "      <td>0.063938</td>\n",
       "    </tr>\n",
       "    <tr>\n",
       "      <th>4</th>\n",
       "      <td>Renal Function Test (RFT)</td>\n",
       "      <td>0.430108</td>\n",
       "      <td>0.037260</td>\n",
       "    </tr>\n",
       "    <tr>\n",
       "      <th>...</th>\n",
       "      <td>...</td>\n",
       "      <td>...</td>\n",
       "      <td>...</td>\n",
       "    </tr>\n",
       "    <tr>\n",
       "      <th>141</th>\n",
       "      <td>Weil Felix Test</td>\n",
       "      <td>0.000000</td>\n",
       "      <td>0.138696</td>\n",
       "    </tr>\n",
       "    <tr>\n",
       "      <th>142</th>\n",
       "      <td>Total Iron Binding Capacity</td>\n",
       "      <td>0.000000</td>\n",
       "      <td>0.088766</td>\n",
       "    </tr>\n",
       "    <tr>\n",
       "      <th>143</th>\n",
       "      <td>QUADRUPLE MARKER</td>\n",
       "      <td>0.000000</td>\n",
       "      <td>0.665742</td>\n",
       "    </tr>\n",
       "    <tr>\n",
       "      <th>144</th>\n",
       "      <td>Total Proteins</td>\n",
       "      <td>0.000000</td>\n",
       "      <td>0.033287</td>\n",
       "    </tr>\n",
       "    <tr>\n",
       "      <th>145</th>\n",
       "      <td>LDH Total</td>\n",
       "      <td>0.000000</td>\n",
       "      <td>0.138696</td>\n",
       "    </tr>\n",
       "  </tbody>\n",
       "</table>\n",
       "<p>146 rows × 3 columns</p>\n",
       "</div>"
      ],
      "text/plain": [
       "                            Test  Frequency  Avg_revenue\n",
       "0           Complete Blood Count   1.000000     0.069492\n",
       "1             Random Blood Sugar   0.719086     0.010684\n",
       "2                  Urine Routine   0.645161     0.021550\n",
       "3            Thyroid Stimulating   0.524194     0.063938\n",
       "4      Renal Function Test (RFT)   0.430108     0.037260\n",
       "..                           ...        ...          ...\n",
       "141              Weil Felix Test   0.000000     0.138696\n",
       "142  Total Iron Binding Capacity   0.000000     0.088766\n",
       "143             QUADRUPLE MARKER   0.000000     0.665742\n",
       "144               Total Proteins   0.000000     0.033287\n",
       "145                    LDH Total   0.000000     0.138696\n",
       "\n",
       "[146 rows x 3 columns]"
      ]
     },
     "execution_count": 25,
     "metadata": {},
     "output_type": "execute_result"
    }
   ],
   "source": [
    "scaler = MinMaxScaler()\n",
    "df[['Frequency']]=scaler.fit_transform(df[['Frequency']])\n",
    "df[['Avg_revenue']]=scaler.fit_transform(df[['Avg_revenue']])\n",
    "df"
   ]
  },
  {
   "cell_type": "code",
   "execution_count": 26,
   "metadata": {},
   "outputs": [
    {
     "data": {
      "text/plain": [
       "<matplotlib.collections.PathCollection at 0x1c64ae68670>"
      ]
     },
     "execution_count": 26,
     "metadata": {},
     "output_type": "execute_result"
    },
    {
     "data": {
      "image/png": "[encoded data removed]",
      "text/plain": [
       "<Figure size 432x288 with 1 Axes>"
      ]
     },
     "metadata": {
      "needs_background": "light"
     },
     "output_type": "display_data"
    }
   ],
   "source": [
    "plt.scatter(df['Frequency'],df['Avg_revenue'])"
   ]
  },
  {
   "cell_type": "markdown",
   "metadata": {},
   "source": [
    "## Finding optimum Value of k-number of clusters"
   ]
  },
  {
   "cell_type": "code",
   "execution_count": 28,
   "metadata": {},
   "outputs": [],
   "source": [
    "k_rng= range(1,11)\n",
    "sse=[]\n",
    "for k in k_rng:\n",
    "    km= KMeans(n_clusters=k)\n",
    "    km.fit(df[['Frequency','Avg_revenue']])\n",
    "    sse.append(km.inertia_)\n"
   ]
  },
  {
   "cell_type": "code",
   "execution_count": 29,
   "metadata": {},
   "outputs": [
    {
     "data": {
      "text/plain": [
       "[5.761433607042133,\n",
       " 3.599555849384353,\n",
       " 1.874191427102756,\n",
       " 1.332270211101038,\n",
       " 0.8818800517904629,\n",
       " 0.6865822055404742,\n",
       " 0.4986755202399869,\n",
       " 0.37995300427934114,\n",
       " 0.3108986010613934,\n",
       " 0.26319213183655765]"
      ]
     },
     "execution_count": 29,
     "metadata": {},
     "output_type": "execute_result"
    }
   ],
   "source": [
    "sse"
   ]
  },
  {
   "cell_type": "code",
   "execution_count": 30,
   "metadata": {},
   "outputs": [
    {
     "data": {
      "text/plain": [
       "Text(0, 0.5, 'Sum squared error')"
      ]
     },
     "execution_count": 30,
     "metadata": {},
     "output_type": "execute_result"
    },
    {
     "data": {
      "image/png": "[encoded data removed]",
      "text/plain": [
       "<Figure size 432x288 with 1 Axes>"
      ]
     },
     "metadata": {
      "needs_background": "light"
     },
     "output_type": "display_data"
    }
   ],
   "source": [
    "plt.plot(k_rng,sse)\n",
    "plt.xlabel('k')\n",
    "plt.ylabel('Sum squared error')\n"
   ]
  },
  {
   "cell_type": "markdown",
   "metadata": {},
   "source": [
    "## K= 5 is selected as optimum value of cluster numbers using elow-joint analysis"
   ]
  },
  {
   "cell_type": "code",
   "execution_count": 31,
   "metadata": {},
   "outputs": [
    {
     "data": {
      "text/plain": [
       "KMeans(n_clusters=5)"
      ]
     },
     "execution_count": 31,
     "metadata": {},
     "output_type": "execute_result"
    }
   ],
   "source": [
    "km = KMeans(n_clusters=5)\n",
    "km"
   ]
  },
  {
   "cell_type": "code",
   "execution_count": 33,
   "metadata": {},
   "outputs": [
    {
     "data": {
      "text/plain": [
       "array([3, 3, 3, 3, 0, 0, 0, 0, 0, 0, 0, 0, 0, 0, 0, 0, 0, 0, 0, 0, 0, 0,\n",
       "       0, 1, 1, 1, 1, 2, 1, 1, 1, 1, 1, 1, 1, 1, 1, 1, 2, 1, 1, 1, 2, 1,\n",
       "       1, 1, 1, 1, 1, 1, 1, 1, 1, 1, 1, 1, 1, 1, 1, 1, 1, 2, 1, 1, 1, 1,\n",
       "       1, 2, 1, 1, 1, 1, 2, 1, 1, 1, 1, 1, 1, 1, 1, 1, 1, 2, 2, 1, 2, 4,\n",
       "       1, 2, 1, 1, 1, 1, 2, 2, 1, 1, 2, 1, 1, 1, 1, 1, 1, 2, 1, 1, 2, 1,\n",
       "       2, 2, 1, 1, 1, 1, 2, 1, 2, 2, 1, 2, 1, 1, 1, 2, 4, 2, 2, 1, 1, 1,\n",
       "       2, 1, 2, 2, 1, 1, 1, 4, 1, 1, 1, 4, 1, 1])"
      ]
     },
     "execution_count": 33,
     "metadata": {},
     "output_type": "execute_result"
    }
   ],
   "source": [
    "y_predicted= km.fit_predict(df[['Frequency','Avg_revenue']])\n",
    "y_predicted"
   ]
  },
  {
   "cell_type": "code",
   "execution_count": 34,
   "metadata": {},
   "outputs": [
    {
     "data": {
      "text/html": [
       "<div>\n",
       "<style scoped>\n",
       "    .dataframe tbody tr th:only-of-type {\n",
       "        vertical-align: middle;\n",
       "    }\n",
       "\n",
       "    .dataframe tbody tr th {\n",
       "        vertical-align: top;\n",
       "    }\n",
       "\n",
       "    .dataframe thead th {\n",
       "        text-align: right;\n",
       "    }\n",
       "</style>\n",
       "<table border=\"1\" class=\"dataframe\">\n",
       "  <thead>\n",
       "    <tr style=\"text-align: right;\">\n",
       "      <th></th>\n",
       "      <th>Test</th>\n",
       "      <th>Frequency</th>\n",
       "      <th>Avg_revenue</th>\n",
       "      <th>cluster</th>\n",
       "    </tr>\n",
       "  </thead>\n",
       "  <tbody>\n",
       "    <tr>\n",
       "      <th>0</th>\n",
       "      <td>Complete Blood Count</td>\n",
       "      <td>1.000000</td>\n",
       "      <td>0.069492</td>\n",
       "      <td>3</td>\n",
       "    </tr>\n",
       "    <tr>\n",
       "      <th>1</th>\n",
       "      <td>Random Blood Sugar</td>\n",
       "      <td>0.719086</td>\n",
       "      <td>0.010684</td>\n",
       "      <td>3</td>\n",
       "    </tr>\n",
       "    <tr>\n",
       "      <th>2</th>\n",
       "      <td>Urine Routine</td>\n",
       "      <td>0.645161</td>\n",
       "      <td>0.021550</td>\n",
       "      <td>3</td>\n",
       "    </tr>\n",
       "    <tr>\n",
       "      <th>3</th>\n",
       "      <td>Thyroid Stimulating</td>\n",
       "      <td>0.524194</td>\n",
       "      <td>0.063938</td>\n",
       "      <td>3</td>\n",
       "    </tr>\n",
       "    <tr>\n",
       "      <th>4</th>\n",
       "      <td>Renal Function Test (RFT)</td>\n",
       "      <td>0.430108</td>\n",
       "      <td>0.037260</td>\n",
       "      <td>0</td>\n",
       "    </tr>\n",
       "    <tr>\n",
       "      <th>...</th>\n",
       "      <td>...</td>\n",
       "      <td>...</td>\n",
       "      <td>...</td>\n",
       "      <td>...</td>\n",
       "    </tr>\n",
       "    <tr>\n",
       "      <th>141</th>\n",
       "      <td>Weil Felix Test</td>\n",
       "      <td>0.000000</td>\n",
       "      <td>0.138696</td>\n",
       "      <td>1</td>\n",
       "    </tr>\n",
       "    <tr>\n",
       "      <th>142</th>\n",
       "      <td>Total Iron Binding Capacity</td>\n",
       "      <td>0.000000</td>\n",
       "      <td>0.088766</td>\n",
       "      <td>1</td>\n",
       "    </tr>\n",
       "    <tr>\n",
       "      <th>143</th>\n",
       "      <td>QUADRUPLE MARKER</td>\n",
       "      <td>0.000000</td>\n",
       "      <td>0.665742</td>\n",
       "      <td>4</td>\n",
       "    </tr>\n",
       "    <tr>\n",
       "      <th>144</th>\n",
       "      <td>Total Proteins</td>\n",
       "      <td>0.000000</td>\n",
       "      <td>0.033287</td>\n",
       "      <td>1</td>\n",
       "    </tr>\n",
       "    <tr>\n",
       "      <th>145</th>\n",
       "      <td>LDH Total</td>\n",
       "      <td>0.000000</td>\n",
       "      <td>0.138696</td>\n",
       "      <td>1</td>\n",
       "    </tr>\n",
       "  </tbody>\n",
       "</table>\n",
       "<p>146 rows × 4 columns</p>\n",
       "</div>"
      ],
      "text/plain": [
       "                            Test  Frequency  Avg_revenue  cluster\n",
       "0           Complete Blood Count   1.000000     0.069492        3\n",
       "1             Random Blood Sugar   0.719086     0.010684        3\n",
       "2                  Urine Routine   0.645161     0.021550        3\n",
       "3            Thyroid Stimulating   0.524194     0.063938        3\n",
       "4      Renal Function Test (RFT)   0.430108     0.037260        0\n",
       "..                           ...        ...          ...      ...\n",
       "141              Weil Felix Test   0.000000     0.138696        1\n",
       "142  Total Iron Binding Capacity   0.000000     0.088766        1\n",
       "143             QUADRUPLE MARKER   0.000000     0.665742        4\n",
       "144               Total Proteins   0.000000     0.033287        1\n",
       "145                    LDH Total   0.000000     0.138696        1\n",
       "\n",
       "[146 rows x 4 columns]"
      ]
     },
     "execution_count": 34,
     "metadata": {},
     "output_type": "execute_result"
    }
   ],
   "source": [
    "df['cluster']=y_predicted\n",
    "df"
   ]
  },
  {
   "cell_type": "markdown",
   "metadata": {},
   "source": [
    "## plotting these 5 clusters after segregating them"
   ]
  },
  {
   "cell_type": "code",
   "execution_count": 40,
   "metadata": {},
   "outputs": [
    {
     "data": {
      "text/html": [
       "<div>\n",
       "<style scoped>\n",
       "    .dataframe tbody tr th:only-of-type {\n",
       "        vertical-align: middle;\n",
       "    }\n",
       "\n",
       "    .dataframe tbody tr th {\n",
       "        vertical-align: top;\n",
       "    }\n",
       "\n",
       "    .dataframe thead th {\n",
       "        text-align: right;\n",
       "    }\n",
       "</style>\n",
       "<table border=\"1\" class=\"dataframe\">\n",
       "  <thead>\n",
       "    <tr style=\"text-align: right;\">\n",
       "      <th></th>\n",
       "      <th>Test</th>\n",
       "      <th>Frequency</th>\n",
       "      <th>Avg_revenue</th>\n",
       "      <th>cluster</th>\n",
       "    </tr>\n",
       "  </thead>\n",
       "  <tbody>\n",
       "    <tr>\n",
       "      <th>0</th>\n",
       "      <td>Complete Blood Count</td>\n",
       "      <td>1.000000</td>\n",
       "      <td>0.069492</td>\n",
       "      <td>3</td>\n",
       "    </tr>\n",
       "    <tr>\n",
       "      <th>1</th>\n",
       "      <td>Random Blood Sugar</td>\n",
       "      <td>0.719086</td>\n",
       "      <td>0.010684</td>\n",
       "      <td>3</td>\n",
       "    </tr>\n",
       "    <tr>\n",
       "      <th>2</th>\n",
       "      <td>Urine Routine</td>\n",
       "      <td>0.645161</td>\n",
       "      <td>0.021550</td>\n",
       "      <td>3</td>\n",
       "    </tr>\n",
       "    <tr>\n",
       "      <th>3</th>\n",
       "      <td>Thyroid Stimulating</td>\n",
       "      <td>0.524194</td>\n",
       "      <td>0.063938</td>\n",
       "      <td>3</td>\n",
       "    </tr>\n",
       "  </tbody>\n",
       "</table>\n",
       "</div>"
      ],
      "text/plain": [
       "                   Test  Frequency  Avg_revenue  cluster\n",
       "0  Complete Blood Count   1.000000     0.069492        3\n",
       "1    Random Blood Sugar   0.719086     0.010684        3\n",
       "2         Urine Routine   0.645161     0.021550        3\n",
       "3   Thyroid Stimulating   0.524194     0.063938        3"
      ]
     },
     "execution_count": 40,
     "metadata": {},
     "output_type": "execute_result"
    }
   ],
   "source": [
    "df0= df[df['cluster']==0]\n",
    "df1= df[df['cluster']==1]\n",
    "df2= df[df['cluster']==2]\n",
    "df3= df[df['cluster']==3]\n",
    "df4= df[df['cluster']==4]\n",
    "\n",
    "df3"
   ]
  },
  {
   "cell_type": "code",
   "execution_count": 41,
   "metadata": {},
   "outputs": [
    {
     "data": {
      "text/html": [
       "<div>\n",
       "<style scoped>\n",
       "    .dataframe tbody tr th:only-of-type {\n",
       "        vertical-align: middle;\n",
       "    }\n",
       "\n",
       "    .dataframe tbody tr th {\n",
       "        vertical-align: top;\n",
       "    }\n",
       "\n",
       "    .dataframe thead th {\n",
       "        text-align: right;\n",
       "    }\n",
       "</style>\n",
       "<table border=\"1\" class=\"dataframe\">\n",
       "  <thead>\n",
       "    <tr style=\"text-align: right;\">\n",
       "      <th></th>\n",
       "      <th>Test</th>\n",
       "      <th>Frequency</th>\n",
       "      <th>Avg_revenue</th>\n",
       "      <th>cluster</th>\n",
       "    </tr>\n",
       "  </thead>\n",
       "  <tbody>\n",
       "    <tr>\n",
       "      <th>4</th>\n",
       "      <td>Renal Function Test (RFT)</td>\n",
       "      <td>0.430108</td>\n",
       "      <td>0.037260</td>\n",
       "      <td>0</td>\n",
       "    </tr>\n",
       "    <tr>\n",
       "      <th>5</th>\n",
       "      <td>Electrolytes (Na,K,Cl)</td>\n",
       "      <td>0.401882</td>\n",
       "      <td>0.121563</td>\n",
       "      <td>0</td>\n",
       "    </tr>\n",
       "    <tr>\n",
       "      <th>6</th>\n",
       "      <td>Serum Creatinine</td>\n",
       "      <td>0.389785</td>\n",
       "      <td>0.020885</td>\n",
       "      <td>0</td>\n",
       "    </tr>\n",
       "    <tr>\n",
       "      <th>7</th>\n",
       "      <td>Blood Group &amp; RH Factor</td>\n",
       "      <td>0.325269</td>\n",
       "      <td>0.016204</td>\n",
       "      <td>0</td>\n",
       "    </tr>\n",
       "    <tr>\n",
       "      <th>8</th>\n",
       "      <td>Haemoglobin (HB)</td>\n",
       "      <td>0.322581</td>\n",
       "      <td>0.021028</td>\n",
       "      <td>0</td>\n",
       "    </tr>\n",
       "    <tr>\n",
       "      <th>9</th>\n",
       "      <td>Fasting Blood Sugar (FBS)</td>\n",
       "      <td>0.248656</td>\n",
       "      <td>0.010457</td>\n",
       "      <td>0</td>\n",
       "    </tr>\n",
       "    <tr>\n",
       "      <th>10</th>\n",
       "      <td>OP GRBS</td>\n",
       "      <td>0.244624</td>\n",
       "      <td>0.019395</td>\n",
       "      <td>0</td>\n",
       "    </tr>\n",
       "    <tr>\n",
       "      <th>11</th>\n",
       "      <td>Liver Function Test (LFT)</td>\n",
       "      <td>0.240591</td>\n",
       "      <td>0.145634</td>\n",
       "      <td>0</td>\n",
       "    </tr>\n",
       "    <tr>\n",
       "      <th>12</th>\n",
       "      <td>Serum Bilirubin</td>\n",
       "      <td>0.196237</td>\n",
       "      <td>0.063423</td>\n",
       "      <td>0</td>\n",
       "    </tr>\n",
       "    <tr>\n",
       "      <th>13</th>\n",
       "      <td>HIV 1 &amp; 2 Rapid</td>\n",
       "      <td>0.184140</td>\n",
       "      <td>0.097960</td>\n",
       "      <td>0</td>\n",
       "    </tr>\n",
       "    <tr>\n",
       "      <th>14</th>\n",
       "      <td>HBs Ag (Rapid)</td>\n",
       "      <td>0.181452</td>\n",
       "      <td>0.049066</td>\n",
       "      <td>0</td>\n",
       "    </tr>\n",
       "    <tr>\n",
       "      <th>15</th>\n",
       "      <td>ABG (Arterial Blood Gas)</td>\n",
       "      <td>0.180108</td>\n",
       "      <td>0.151308</td>\n",
       "      <td>0</td>\n",
       "    </tr>\n",
       "    <tr>\n",
       "      <th>16</th>\n",
       "      <td>Glucose Challenge Test</td>\n",
       "      <td>0.180108</td>\n",
       "      <td>0.027546</td>\n",
       "      <td>0</td>\n",
       "    </tr>\n",
       "    <tr>\n",
       "      <th>17</th>\n",
       "      <td>HbA1C / Glycosylated</td>\n",
       "      <td>0.169355</td>\n",
       "      <td>0.140085</td>\n",
       "      <td>0</td>\n",
       "    </tr>\n",
       "    <tr>\n",
       "      <th>18</th>\n",
       "      <td>Uric Acid</td>\n",
       "      <td>0.147849</td>\n",
       "      <td>0.039417</td>\n",
       "      <td>0</td>\n",
       "    </tr>\n",
       "    <tr>\n",
       "      <th>19</th>\n",
       "      <td>Urine Culture</td>\n",
       "      <td>0.143817</td>\n",
       "      <td>0.135604</td>\n",
       "      <td>0</td>\n",
       "    </tr>\n",
       "    <tr>\n",
       "      <th>20</th>\n",
       "      <td>CRP -Slide Latex</td>\n",
       "      <td>0.143817</td>\n",
       "      <td>0.078592</td>\n",
       "      <td>0</td>\n",
       "    </tr>\n",
       "    <tr>\n",
       "      <th>21</th>\n",
       "      <td>CBC without ESR</td>\n",
       "      <td>0.133065</td>\n",
       "      <td>0.061251</td>\n",
       "      <td>0</td>\n",
       "    </tr>\n",
       "    <tr>\n",
       "      <th>22</th>\n",
       "      <td>Post Prandial Blood Sugar</td>\n",
       "      <td>0.126344</td>\n",
       "      <td>0.010412</td>\n",
       "      <td>0</td>\n",
       "    </tr>\n",
       "  </tbody>\n",
       "</table>\n",
       "</div>"
      ],
      "text/plain": [
       "                         Test  Frequency  Avg_revenue  cluster\n",
       "4   Renal Function Test (RFT)   0.430108     0.037260        0\n",
       "5      Electrolytes (Na,K,Cl)   0.401882     0.121563        0\n",
       "6            Serum Creatinine   0.389785     0.020885        0\n",
       "7     Blood Group & RH Factor   0.325269     0.016204        0\n",
       "8            Haemoglobin (HB)   0.322581     0.021028        0\n",
       "9   Fasting Blood Sugar (FBS)   0.248656     0.010457        0\n",
       "10                    OP GRBS   0.244624     0.019395        0\n",
       "11  Liver Function Test (LFT)   0.240591     0.145634        0\n",
       "12            Serum Bilirubin   0.196237     0.063423        0\n",
       "13            HIV 1 & 2 Rapid   0.184140     0.097960        0\n",
       "14             HBs Ag (Rapid)   0.181452     0.049066        0\n",
       "15   ABG (Arterial Blood Gas)   0.180108     0.151308        0\n",
       "16     Glucose Challenge Test   0.180108     0.027546        0\n",
       "17       HbA1C / Glycosylated   0.169355     0.140085        0\n",
       "18                  Uric Acid   0.147849     0.039417        0\n",
       "19              Urine Culture   0.143817     0.135604        0\n",
       "20           CRP -Slide Latex   0.143817     0.078592        0\n",
       "21            CBC without ESR   0.133065     0.061251        0\n",
       "22  Post Prandial Blood Sugar   0.126344     0.010412        0"
      ]
     },
     "execution_count": 41,
     "metadata": {},
     "output_type": "execute_result"
    }
   ],
   "source": [
    "df0"
   ]
  },
  {
   "cell_type": "code",
   "execution_count": 42,
   "metadata": {},
   "outputs": [
    {
     "data": {
      "text/html": [
       "<div>\n",
       "<style scoped>\n",
       "    .dataframe tbody tr th:only-of-type {\n",
       "        vertical-align: middle;\n",
       "    }\n",
       "\n",
       "    .dataframe tbody tr th {\n",
       "        vertical-align: top;\n",
       "    }\n",
       "\n",
       "    .dataframe thead th {\n",
       "        text-align: right;\n",
       "    }\n",
       "</style>\n",
       "<table border=\"1\" class=\"dataframe\">\n",
       "  <thead>\n",
       "    <tr style=\"text-align: right;\">\n",
       "      <th></th>\n",
       "      <th>Test</th>\n",
       "      <th>Frequency</th>\n",
       "      <th>Avg_revenue</th>\n",
       "      <th>cluster</th>\n",
       "    </tr>\n",
       "  </thead>\n",
       "  <tbody>\n",
       "    <tr>\n",
       "      <th>23</th>\n",
       "      <td>Platelet Count</td>\n",
       "      <td>0.114247</td>\n",
       "      <td>0.032029</td>\n",
       "      <td>1</td>\n",
       "    </tr>\n",
       "    <tr>\n",
       "      <th>24</th>\n",
       "      <td>Serum Calcium</td>\n",
       "      <td>0.100806</td>\n",
       "      <td>0.040094</td>\n",
       "      <td>1</td>\n",
       "    </tr>\n",
       "    <tr>\n",
       "      <th>25</th>\n",
       "      <td>VDRL / RPR</td>\n",
       "      <td>0.099462</td>\n",
       "      <td>0.041272</td>\n",
       "      <td>1</td>\n",
       "    </tr>\n",
       "    <tr>\n",
       "      <th>26</th>\n",
       "      <td>Blood Urea</td>\n",
       "      <td>0.086022</td>\n",
       "      <td>0.021317</td>\n",
       "      <td>1</td>\n",
       "    </tr>\n",
       "    <tr>\n",
       "      <th>28</th>\n",
       "      <td>Urine Pregnancy Test</td>\n",
       "      <td>0.067204</td>\n",
       "      <td>0.033287</td>\n",
       "      <td>1</td>\n",
       "    </tr>\n",
       "    <tr>\n",
       "      <th>...</th>\n",
       "      <td>...</td>\n",
       "      <td>...</td>\n",
       "      <td>...</td>\n",
       "      <td>...</td>\n",
       "    </tr>\n",
       "    <tr>\n",
       "      <th>140</th>\n",
       "      <td>CD-4 Count</td>\n",
       "      <td>0.000000</td>\n",
       "      <td>0.055479</td>\n",
       "      <td>1</td>\n",
       "    </tr>\n",
       "    <tr>\n",
       "      <th>141</th>\n",
       "      <td>Weil Felix Test</td>\n",
       "      <td>0.000000</td>\n",
       "      <td>0.138696</td>\n",
       "      <td>1</td>\n",
       "    </tr>\n",
       "    <tr>\n",
       "      <th>142</th>\n",
       "      <td>Total Iron Binding Capacity</td>\n",
       "      <td>0.000000</td>\n",
       "      <td>0.088766</td>\n",
       "      <td>1</td>\n",
       "    </tr>\n",
       "    <tr>\n",
       "      <th>144</th>\n",
       "      <td>Total Proteins</td>\n",
       "      <td>0.000000</td>\n",
       "      <td>0.033287</td>\n",
       "      <td>1</td>\n",
       "    </tr>\n",
       "    <tr>\n",
       "      <th>145</th>\n",
       "      <td>LDH Total</td>\n",
       "      <td>0.000000</td>\n",
       "      <td>0.138696</td>\n",
       "      <td>1</td>\n",
       "    </tr>\n",
       "  </tbody>\n",
       "</table>\n",
       "<p>92 rows × 4 columns</p>\n",
       "</div>"
      ],
      "text/plain": [
       "                            Test  Frequency  Avg_revenue  cluster\n",
       "23                Platelet Count   0.114247     0.032029        1\n",
       "24                 Serum Calcium   0.100806     0.040094        1\n",
       "25                    VDRL / RPR   0.099462     0.041272        1\n",
       "26                    Blood Urea   0.086022     0.021317        1\n",
       "28          Urine Pregnancy Test   0.067204     0.033287        1\n",
       "..                           ...        ...          ...      ...\n",
       "140                   CD-4 Count   0.000000     0.055479        1\n",
       "141              Weil Felix Test   0.000000     0.138696        1\n",
       "142  Total Iron Binding Capacity   0.000000     0.088766        1\n",
       "144               Total Proteins   0.000000     0.033287        1\n",
       "145                    LDH Total   0.000000     0.138696        1\n",
       "\n",
       "[92 rows x 4 columns]"
      ]
     },
     "execution_count": 42,
     "metadata": {},
     "output_type": "execute_result"
    }
   ],
   "source": [
    "df1"
   ]
  },
  {
   "cell_type": "code",
   "execution_count": 44,
   "metadata": {},
   "outputs": [
    {
     "data": {
      "text/html": [
       "<div>\n",
       "<style scoped>\n",
       "    .dataframe tbody tr th:only-of-type {\n",
       "        vertical-align: middle;\n",
       "    }\n",
       "\n",
       "    .dataframe tbody tr th {\n",
       "        vertical-align: top;\n",
       "    }\n",
       "\n",
       "    .dataframe thead th {\n",
       "        text-align: right;\n",
       "    }\n",
       "</style>\n",
       "<table border=\"1\" class=\"dataframe\">\n",
       "  <thead>\n",
       "    <tr style=\"text-align: right;\">\n",
       "      <th></th>\n",
       "      <th>Test</th>\n",
       "      <th>Frequency</th>\n",
       "      <th>Avg_revenue</th>\n",
       "      <th>cluster</th>\n",
       "    </tr>\n",
       "  </thead>\n",
       "  <tbody>\n",
       "    <tr>\n",
       "      <th>87</th>\n",
       "      <td>Double Marker For Downs</td>\n",
       "      <td>0.002688</td>\n",
       "      <td>0.517799</td>\n",
       "      <td>4</td>\n",
       "    </tr>\n",
       "    <tr>\n",
       "      <th>126</th>\n",
       "      <td>ANA Profile</td>\n",
       "      <td>0.000000</td>\n",
       "      <td>1.000000</td>\n",
       "      <td>4</td>\n",
       "    </tr>\n",
       "    <tr>\n",
       "      <th>139</th>\n",
       "      <td>Vitamin B12</td>\n",
       "      <td>0.000000</td>\n",
       "      <td>0.610264</td>\n",
       "      <td>4</td>\n",
       "    </tr>\n",
       "    <tr>\n",
       "      <th>143</th>\n",
       "      <td>QUADRUPLE MARKER</td>\n",
       "      <td>0.000000</td>\n",
       "      <td>0.665742</td>\n",
       "      <td>4</td>\n",
       "    </tr>\n",
       "  </tbody>\n",
       "</table>\n",
       "</div>"
      ],
      "text/plain": [
       "                        Test  Frequency  Avg_revenue  cluster\n",
       "87   Double Marker For Downs   0.002688     0.517799        4\n",
       "126              ANA Profile   0.000000     1.000000        4\n",
       "139              Vitamin B12   0.000000     0.610264        4\n",
       "143         QUADRUPLE MARKER   0.000000     0.665742        4"
      ]
     },
     "execution_count": 44,
     "metadata": {},
     "output_type": "execute_result"
    }
   ],
   "source": [
    "df4"
   ]
  },
  {
   "cell_type": "code",
   "execution_count": 51,
   "metadata": {},
   "outputs": [
    {
     "data": {
      "image/png": "[encoded data removed]",
      "text/plain": [
       "<Figure size 432x288 with 1 Axes>"
      ]
     },
     "metadata": {
      "needs_background": "light"
     },
     "output_type": "display_data"
    },
    {
     "data": {
      "text/plain": [
       "<Figure size 1440x1080 with 0 Axes>"
      ]
     },
     "metadata": {},
     "output_type": "display_data"
    }
   ],
   "source": [
    "plt.scatter(df0['Frequency'],df0['Avg_revenue'],color='yellow')\n",
    "plt.scatter(df1['Frequency'],df1['Avg_revenue'],color='green')\n",
    "plt.scatter(df2['Frequency'],df2['Avg_revenue'],color='black')\n",
    "plt.scatter(df3['Frequency'],df3['Avg_revenue'],color='red')\n",
    "plt.scatter(df4['Frequency'],df4['Avg_revenue'],color='blue')\n",
    "plt.xlabel('Frequency')\n",
    "plt.ylabel('Avg-price')\n",
    "fig= plt.figure(figsize=(20,15))\n",
    "plt.show()"
   ]
  },
  {
   "cell_type": "code",
   "execution_count": null,
   "metadata": {},
   "outputs": [],
   "source": []
  }
 ],
 "metadata": {
  "kernelspec": {
   "display_name": "Python 3",
   "language": "python",
   "name": "python3"
  },
  "language_info": {
   "codemirror_mode": {
    "name": "ipython",
    "version": 3
   },
   "file_extension": ".py",
   "mimetype": "text/x-python",
   "name": "python",
   "nbconvert_exporter": "python",
   "pygments_lexer": "ipython3",
   "version": "3.8.3"
  }
 },
 "nbformat": 4,
 "nbformat_minor": 4
}
