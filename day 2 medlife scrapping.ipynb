{
 "cells": [
  {
   "cell_type": "code",
   "execution_count": 30,
   "metadata": {},
   "outputs": [],
   "source": [
    "import bs4"
   ]
  },
  {
   "cell_type": "code",
   "execution_count": 31,
   "metadata": {},
   "outputs": [],
   "source": [
    "from urllib.request import urlopen as ureq"
   ]
  },
  {
   "cell_type": "code",
   "execution_count": 32,
   "metadata": {},
   "outputs": [],
   "source": [
    "from bs4 import BeautifulSoup as soup"
   ]
  },
  {
   "cell_type": "code",
   "execution_count": 33,
   "metadata": {},
   "outputs": [],
   "source": [
    "my_url=\"https://labs.medlife.com/campaign/full-body-checkup/?utm_source=google&utm_campaign=sem:1486220572&utm_medium={medium}&keyword=dr%20lal%20pathlabs&gclid=Cj0KCQjw0rr4BRCtARIsAB0_48PlTupIT0uRlTmV2AUARh4hoJ_nPLIYgjT--vw9agQqWNqP-3eYwj8aAh3oEALw_wcB\""
   ]
  },
  {
   "cell_type": "code",
   "execution_count": 34,
   "metadata": {},
   "outputs": [
    {
     "data": {
      "text/plain": [
       "'https://labs.medlife.com/campaign/full-body-checkup/?utm_source=google&utm_campaign=sem:1486220572&utm_medium={medium}&keyword=dr%20lal%20pathlabs&gclid=Cj0KCQjw0rr4BRCtARIsAB0_48PlTupIT0uRlTmV2AUARh4hoJ_nPLIYgjT--vw9agQqWNqP-3eYwj8aAh3oEALw_wcB'"
      ]
     },
     "execution_count": 34,
     "metadata": {},
     "output_type": "execute_result"
    }
   ],
   "source": [
    "my_url"
   ]
  },
  {
   "cell_type": "code",
   "execution_count": 35,
   "metadata": {},
   "outputs": [],
   "source": [
    "uClient=ureq(my_url)"
   ]
  },
  {
   "cell_type": "code",
   "execution_count": 36,
   "metadata": {},
   "outputs": [],
   "source": [
    "page_html=uClient.read()"
   ]
  },
  {
   "cell_type": "code",
   "execution_count": 37,
   "metadata": {},
   "outputs": [],
   "source": [
    "uClient.close()"
   ]
  },
  {
   "cell_type": "code",
   "execution_count": 38,
   "metadata": {},
   "outputs": [],
   "source": [
    "page_soup= soup(page_html,\"html.parser\")"
   ]
  },
  {
   "cell_type": "markdown",
   "metadata": {},
   "source": [
    "Grabbing all elements"
   ]
  },
  {
   "cell_type": "code",
   "execution_count": 45,
   "metadata": {},
   "outputs": [],
   "source": [
    "containers= page_soup.findAll(\"div\",{\"class\":\"col-md-3\"})"
   ]
  },
  {
   "cell_type": "code",
   "execution_count": 46,
   "metadata": {},
   "outputs": [
    {
     "data": {
      "text/plain": [
       "4"
      ]
     },
     "execution_count": 46,
     "metadata": {},
     "output_type": "execute_result"
    }
   ],
   "source": [
    "len(containers)"
   ]
  },
  {
   "cell_type": "code",
   "execution_count": 49,
   "metadata": {},
   "outputs": [
    {
     "data": {
      "text/plain": [
       "<div class=\"col-md-3\">\n",
       "<div class=\"ds-t\" id=\"section3\">\n",
       "<h2>Preliminary Health Checkup<br/>\n",
       "<span>(44 Parameters)</span>\n",
       "</h2>\n",
       "<div class=\"mt-32\"> <span class=\"price-one\">₹1490</span>   <span class=\"price-two\">₹599\n",
       "\n",
       "</span>\n",
       "</div>\n",
       "<h3 class=\"text-success\">Discount 59.8%</h3>\n",
       "<p class=\"package-list\">CBC (20)\n",
       "\t\t\t\t\t\t\t<br/>FBS\n",
       "\t\t\t\t\t\t\t<br/>TSH\n",
       "\t\t\t\t\t\t\t<br/>Total Cholestrol\n",
       "\t\t\t\t\t\t\t<br/>Urine Complete Analysis (21)\n",
       "\t\t\t\t\t\t\t<br/>\n",
       "<br/>\n",
       "<br/>\n",
       "<br/>\n",
       "<br/>\n",
       "</p>\n",
       "<a href=\"#section2\">\n",
       "<button class=\"inner-bt book-button btn mb-30\" data-book=\"Preliminary Health Checkup\" onclick=\"changeBook(this)\" type=\"button\">Book Now</button>\n",
       "</a>\n",
       "</div>\n",
       "</div>"
      ]
     },
     "execution_count": 49,
     "metadata": {},
     "output_type": "execute_result"
    }
   ],
   "source": [
    "containers[0]"
   ]
  },
  {
   "cell_type": "code",
   "execution_count": 50,
   "metadata": {},
   "outputs": [],
   "source": [
    "contain=containers[0]"
   ]
  },
  {
   "cell_type": "code",
   "execution_count": 54,
   "metadata": {},
   "outputs": [
    {
     "data": {
      "text/plain": [
       "<span>(44 Parameters)</span>"
      ]
     },
     "execution_count": 54,
     "metadata": {},
     "output_type": "execute_result"
    }
   ],
   "source": [
    "contain.span"
   ]
  },
  {
   "cell_type": "code",
   "execution_count": 56,
   "metadata": {},
   "outputs": [
    {
     "data": {
      "text/plain": [
       "<h2>Preliminary Health Checkup<br/>\n",
       "<span>(44 Parameters)</span>\n",
       "</h2>"
      ]
     },
     "execution_count": 56,
     "metadata": {},
     "output_type": "execute_result"
    }
   ],
   "source": [
    "contain.h2"
   ]
  },
  {
   "cell_type": "code",
   "execution_count": 58,
   "metadata": {},
   "outputs": [
    {
     "data": {
      "text/plain": [
       "<p class=\"package-list\">CBC (20)\n",
       "\t\t\t\t\t\t\t<br/>FBS\n",
       "\t\t\t\t\t\t\t<br/>TSH\n",
       "\t\t\t\t\t\t\t<br/>Total Cholestrol\n",
       "\t\t\t\t\t\t\t<br/>Urine Complete Analysis (21)\n",
       "\t\t\t\t\t\t\t<br/>\n",
       "<br/>\n",
       "<br/>\n",
       "<br/>\n",
       "<br/>\n",
       "</p>"
      ]
     },
     "execution_count": 58,
     "metadata": {},
     "output_type": "execute_result"
    }
   ],
   "source": [
    "contain.p"
   ]
  },
  {
   "cell_type": "code",
   "execution_count": 59,
   "metadata": {},
   "outputs": [
    {
     "data": {
      "text/plain": [
       "<div class=\"ds-t\" id=\"section3\">\n",
       "<h2>Preliminary Health Checkup<br/>\n",
       "<span>(44 Parameters)</span>\n",
       "</h2>\n",
       "<div class=\"mt-32\"> <span class=\"price-one\">₹1490</span>   <span class=\"price-two\">₹599\n",
       "\n",
       "</span>\n",
       "</div>\n",
       "<h3 class=\"text-success\">Discount 59.8%</h3>\n",
       "<p class=\"package-list\">CBC (20)\n",
       "\t\t\t\t\t\t\t<br/>FBS\n",
       "\t\t\t\t\t\t\t<br/>TSH\n",
       "\t\t\t\t\t\t\t<br/>Total Cholestrol\n",
       "\t\t\t\t\t\t\t<br/>Urine Complete Analysis (21)\n",
       "\t\t\t\t\t\t\t<br/>\n",
       "<br/>\n",
       "<br/>\n",
       "<br/>\n",
       "<br/>\n",
       "</p>\n",
       "<a href=\"#section2\">\n",
       "<button class=\"inner-bt book-button btn mb-30\" data-book=\"Preliminary Health Checkup\" onclick=\"changeBook(this)\" type=\"button\">Book Now</button>\n",
       "</a>\n",
       "</div>"
      ]
     },
     "execution_count": 59,
     "metadata": {},
     "output_type": "execute_result"
    }
   ],
   "source": [
    "contain.div"
   ]
  },
  {
   "cell_type": "code",
   "execution_count": 96,
   "metadata": {},
   "outputs": [
    {
     "data": {
      "text/plain": [
       "'Preliminary Health Checkup\\n(44 Parameters)'"
      ]
     },
     "execution_count": 96,
     "metadata": {},
     "output_type": "execute_result"
    }
   ],
   "source": [
    "contain.h2.text.strip()"
   ]
  },
  {
   "cell_type": "code",
   "execution_count": 100,
   "metadata": {},
   "outputs": [
    {
     "data": {
      "text/plain": [
       "'₹1490 \\xa0 ₹599'"
      ]
     },
     "execution_count": 100,
     "metadata": {},
     "output_type": "execute_result"
    }
   ],
   "source": [
    "contain.div.div.text.strip()"
   ]
  },
  {
   "cell_type": "code",
   "execution_count": 101,
   "metadata": {},
   "outputs": [
    {
     "data": {
      "text/plain": [
       "'Discount 59.8%'"
      ]
     },
     "execution_count": 101,
     "metadata": {},
     "output_type": "execute_result"
    }
   ],
   "source": [
    "contain.h3.text"
   ]
  },
  {
   "cell_type": "code",
   "execution_count": 102,
   "metadata": {},
   "outputs": [
    {
     "data": {
      "text/plain": [
       "'CBC (20)\\n\\t\\t\\t\\t\\t\\t\\tFBS\\n\\t\\t\\t\\t\\t\\t\\tTSH\\n\\t\\t\\t\\t\\t\\t\\tTotal Cholestrol\\n\\t\\t\\t\\t\\t\\t\\tUrine Complete Analysis (21)'"
      ]
     },
     "execution_count": 102,
     "metadata": {},
     "output_type": "execute_result"
    }
   ],
   "source": [
    "contain.p.text.strip()"
   ]
  },
  {
   "cell_type": "markdown",
   "metadata": {},
   "source": [
    "LOOPING ALL"
   ]
  },
  {
   "cell_type": "code",
   "execution_count": 104,
   "metadata": {},
   "outputs": [
    {
     "name": "stdout",
     "output_type": "stream",
     "text": [
      "name_test: Preliminary Health Checkup\n",
      "(44 Parameters)\n",
      "old_price_new_price: ₹1490   ₹599\n",
      "discount: Discount 59.8%\n",
      "test_contents: CBC (20)\n",
      "\t\t\t\t\t\t\tFBS\n",
      "\t\t\t\t\t\t\tTSH\n",
      "\t\t\t\t\t\t\tTotal Cholestrol\n",
      "\t\t\t\t\t\t\tUrine Complete Analysis (21)\n",
      "name_test: Basic Health Checkup\n",
      "(47 Parameters)\n",
      "old_price_new_price: ₹1990   ₹799\n",
      "discount: Discount 59.8%\n",
      "test_contents: CBC (20)\n",
      "\t\t\t\t\t\t\tBlood Sugar (1)-FBS\n",
      "\t\t\t\t\t\t\tLipid Profile (7)\n",
      "\t\t\t\t\t\t\tFBS\n",
      "\t\t\t\t\t\t\tLiver Function Test (11)\n",
      "\t\t\t\t\t\t\tKidney Function Test (8)\n",
      "\t\t\t\t\t\t\tTSH\n",
      "name_test: Advanced Full Body Checkup\n",
      "(72 Parameters)\n",
      "old_price_new_price: ₹2490   ₹849\n",
      "discount: Discount 65.9%\n",
      "test_contents: CBC (20)\n",
      "\t\t\t\t\t\t\tDiabetic Screening -(3)\n",
      "\t\t\t\t\t\t\tLipid Profile (7)\n",
      "\t\t\t\t\t\t\tLiver Function Test (11)\n",
      "\t\t\t\t\t\t\tKidney Function Basic (7)\n",
      "\t\t\t\t\t\t\tThyroid Function Test (3)\n",
      "\t\t\t\t\t\t\tUrine Complete Analysis (21)\n",
      "name_test: Comprehensive full body checkup with Vitamin D & B12\n",
      "(79 Parameters)\n",
      "old_price_new_price: ₹4990   ₹1699\n",
      "discount: Discount 66%\n",
      "test_contents: CBC(20)+PS\n",
      "\t\t\t\t\t\t\tFBS & HbA1c\n",
      "\t\t\t\t\t\t\tLipid Profile (7)\n",
      "\t\t\t\t\t\t\tUrine Complete analysis (21)\n",
      "\t\t\t\t\t\t\tLiver Function Test (11)\n",
      "\t\t\t\t\t\t\tKidney Function Test (8)\n",
      "\t\t\t\t\t\t\tTSH + T3 + T4\n",
      "\t\t\t\t\t\t\tVitamin D & B12\n",
      "\t\t\t\t\t\t\tIron Profile (4)\n"
     ]
    }
   ],
   "source": [
    "for n in containers:\n",
    "    name_test= n.h2.text.strip()\n",
    "    old_price_new_price= n.div.div.text.strip()\n",
    "    discount= n.h3.text\n",
    "    test_contents= n.p.text.strip()\n",
    "    \n",
    "    print(\"name_test: \"+ name_test)\n",
    "    print(\"old_price_new_price: \"+old_price_new_price)\n",
    "    print(\"discount: \"+ discount)\n",
    "    print(\"test_contents: \"+ test_contents)"
   ]
  },
  {
   "cell_type": "markdown",
   "metadata": {},
   "source": [
    "Throwing into csv:"
   ]
  },
  {
   "cell_type": "code",
   "execution_count": 117,
   "metadata": {},
   "outputs": [],
   "source": [
    "filename=\"finaltests.csv\"\n",
    "f=open(filename,\"w\")\n",
    "headers= \"test name, old price and new price, discount, test contents\\n\"\n",
    "f.write(headers)    \n",
    "\n",
    "for n in containers:\n",
    "    name_test= n.h2.text.strip()\n",
    "    old_price_new_price= n.div.div.text.strip().replace('\\u20b9',\"Rs\")\n",
    "    discount= n.h3.text\n",
    "    test_contents= n.p.text.replace(\"\\t\",\"\").replace(\"\\n\",\"|\").strip()\n",
    "    \n",
    "    f.write(name_test+\",\"+old_price_new_price+\",\"+discount+\",\"+test_contents+\"\\n\")\n",
    "    \n",
    "f.close()\n",
    "    \n"
   ]
  },
  {
   "cell_type": "markdown",
   "metadata": {},
   "source": [
    "OPEN IN EXCEL"
   ]
  },
  {
   "cell_type": "code",
   "execution_count": null,
   "metadata": {},
   "outputs": [],
   "source": []
  }
 ],
 "metadata": {
  "kernelspec": {
   "display_name": "Python 3",
   "language": "python",
   "name": "python3"
  },
  "language_info": {
   "codemirror_mode": {
    "name": "ipython",
    "version": 3
   },
   "file_extension": ".py",
   "mimetype": "text/x-python",
   "name": "python",
   "nbconvert_exporter": "python",
   "pygments_lexer": "ipython3",
   "version": "3.8.3"
  }
 },
 "nbformat": 4,
 "nbformat_minor": 4
}
